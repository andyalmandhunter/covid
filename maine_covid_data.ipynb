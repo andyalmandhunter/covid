{
 "cells": [
  {
   "cell_type": "code",
   "execution_count": 22,
   "metadata": {},
   "outputs": [],
   "source": [
    "import numpy as np\n",
    "import pandas as pd\n",
    "import matplotlib.pyplot as plt\n",
    "import pygal \n",
    "from pygal import Config\n",
    "from pywaffle import Waffle\n",
    "import flask\n",
    "# import sqviz as vz\n",
    "\n",
    "%matplotlib inline"
   ]
  },
  {
   "cell_type": "code",
   "execution_count": 7,
   "metadata": {},
   "outputs": [],
   "source": [
    "import os, ssl\n",
    "if (not os.environ.get('PYTHONHTTPSVERIFY', '') and\n",
    "getattr(ssl, '_create_unverified_context', None)):\n",
    "    ssl._create_default_https_context = ssl._create_unverified_context"
   ]
  },
  {
   "cell_type": "code",
   "execution_count": 8,
   "metadata": {
    "scrolled": true
   },
   "outputs": [],
   "source": [
    "url = 'https://raw.githubusercontent.com/nytimes/covid-19-data/master/us-counties.csv'\n",
    "df = pd.read_csv(url, error_bad_lines=False)"
   ]
  },
  {
   "cell_type": "code",
   "execution_count": 9,
   "metadata": {},
   "outputs": [
    {
     "data": {
      "text/html": [
       "<div>\n",
       "<style scoped>\n",
       "    .dataframe tbody tr th:only-of-type {\n",
       "        vertical-align: middle;\n",
       "    }\n",
       "\n",
       "    .dataframe tbody tr th {\n",
       "        vertical-align: top;\n",
       "    }\n",
       "\n",
       "    .dataframe thead th {\n",
       "        text-align: right;\n",
       "    }\n",
       "</style>\n",
       "<table border=\"1\" class=\"dataframe\">\n",
       "  <thead>\n",
       "    <tr style=\"text-align: right;\">\n",
       "      <th></th>\n",
       "      <th>date</th>\n",
       "      <th>county</th>\n",
       "      <th>state</th>\n",
       "      <th>fips</th>\n",
       "      <th>cases</th>\n",
       "      <th>deaths</th>\n",
       "    </tr>\n",
       "  </thead>\n",
       "  <tbody>\n",
       "    <tr>\n",
       "      <th>0</th>\n",
       "      <td>2020-01-21</td>\n",
       "      <td>Snohomish</td>\n",
       "      <td>Washington</td>\n",
       "      <td>53061.0</td>\n",
       "      <td>1</td>\n",
       "      <td>0</td>\n",
       "    </tr>\n",
       "    <tr>\n",
       "      <th>1</th>\n",
       "      <td>2020-01-22</td>\n",
       "      <td>Snohomish</td>\n",
       "      <td>Washington</td>\n",
       "      <td>53061.0</td>\n",
       "      <td>1</td>\n",
       "      <td>0</td>\n",
       "    </tr>\n",
       "    <tr>\n",
       "      <th>2</th>\n",
       "      <td>2020-01-23</td>\n",
       "      <td>Snohomish</td>\n",
       "      <td>Washington</td>\n",
       "      <td>53061.0</td>\n",
       "      <td>1</td>\n",
       "      <td>0</td>\n",
       "    </tr>\n",
       "    <tr>\n",
       "      <th>3</th>\n",
       "      <td>2020-01-24</td>\n",
       "      <td>Cook</td>\n",
       "      <td>Illinois</td>\n",
       "      <td>17031.0</td>\n",
       "      <td>1</td>\n",
       "      <td>0</td>\n",
       "    </tr>\n",
       "    <tr>\n",
       "      <th>4</th>\n",
       "      <td>2020-01-24</td>\n",
       "      <td>Snohomish</td>\n",
       "      <td>Washington</td>\n",
       "      <td>53061.0</td>\n",
       "      <td>1</td>\n",
       "      <td>0</td>\n",
       "    </tr>\n",
       "  </tbody>\n",
       "</table>\n",
       "</div>"
      ],
      "text/plain": [
       "         date     county       state     fips  cases  deaths\n",
       "0  2020-01-21  Snohomish  Washington  53061.0      1       0\n",
       "1  2020-01-22  Snohomish  Washington  53061.0      1       0\n",
       "2  2020-01-23  Snohomish  Washington  53061.0      1       0\n",
       "3  2020-01-24       Cook    Illinois  17031.0      1       0\n",
       "4  2020-01-24  Snohomish  Washington  53061.0      1       0"
      ]
     },
     "execution_count": 9,
     "metadata": {},
     "output_type": "execute_result"
    }
   ],
   "source": [
    "df.head()"
   ]
  },
  {
   "cell_type": "code",
   "execution_count": 10,
   "metadata": {},
   "outputs": [],
   "source": [
    "# df['date'] = pd.to_datetime(df.date)"
   ]
  },
  {
   "cell_type": "code",
   "execution_count": 11,
   "metadata": {},
   "outputs": [
    {
     "data": {
      "text/html": [
       "<div>\n",
       "<style scoped>\n",
       "    .dataframe tbody tr th:only-of-type {\n",
       "        vertical-align: middle;\n",
       "    }\n",
       "\n",
       "    .dataframe tbody tr th {\n",
       "        vertical-align: top;\n",
       "    }\n",
       "\n",
       "    .dataframe thead th {\n",
       "        text-align: right;\n",
       "    }\n",
       "</style>\n",
       "<table border=\"1\" class=\"dataframe\">\n",
       "  <thead>\n",
       "    <tr style=\"text-align: right;\">\n",
       "      <th></th>\n",
       "      <th>date</th>\n",
       "      <th>county</th>\n",
       "      <th>state</th>\n",
       "      <th>fips</th>\n",
       "      <th>cases</th>\n",
       "      <th>deaths</th>\n",
       "    </tr>\n",
       "  </thead>\n",
       "  <tbody>\n",
       "    <tr>\n",
       "      <th>1466</th>\n",
       "      <td>2020-03-12</td>\n",
       "      <td>Androscoggin</td>\n",
       "      <td>Maine</td>\n",
       "      <td>23001.0</td>\n",
       "      <td>1</td>\n",
       "      <td>0</td>\n",
       "    </tr>\n",
       "    <tr>\n",
       "      <th>1742</th>\n",
       "      <td>2020-03-13</td>\n",
       "      <td>Androscoggin</td>\n",
       "      <td>Maine</td>\n",
       "      <td>23001.0</td>\n",
       "      <td>1</td>\n",
       "      <td>0</td>\n",
       "    </tr>\n",
       "    <tr>\n",
       "      <th>1743</th>\n",
       "      <td>2020-03-13</td>\n",
       "      <td>Cumberland</td>\n",
       "      <td>Maine</td>\n",
       "      <td>23005.0</td>\n",
       "      <td>1</td>\n",
       "      <td>0</td>\n",
       "    </tr>\n",
       "    <tr>\n",
       "      <th>2082</th>\n",
       "      <td>2020-03-14</td>\n",
       "      <td>Androscoggin</td>\n",
       "      <td>Maine</td>\n",
       "      <td>23001.0</td>\n",
       "      <td>1</td>\n",
       "      <td>0</td>\n",
       "    </tr>\n",
       "    <tr>\n",
       "      <th>2083</th>\n",
       "      <td>2020-03-14</td>\n",
       "      <td>Cumberland</td>\n",
       "      <td>Maine</td>\n",
       "      <td>23005.0</td>\n",
       "      <td>2</td>\n",
       "      <td>0</td>\n",
       "    </tr>\n",
       "  </tbody>\n",
       "</table>\n",
       "</div>"
      ],
      "text/plain": [
       "            date        county  state     fips  cases  deaths\n",
       "1466  2020-03-12  Androscoggin  Maine  23001.0      1       0\n",
       "1742  2020-03-13  Androscoggin  Maine  23001.0      1       0\n",
       "1743  2020-03-13    Cumberland  Maine  23005.0      1       0\n",
       "2082  2020-03-14  Androscoggin  Maine  23001.0      1       0\n",
       "2083  2020-03-14    Cumberland  Maine  23005.0      2       0"
      ]
     },
     "execution_count": 11,
     "metadata": {},
     "output_type": "execute_result"
    }
   ],
   "source": [
    "df_maine = df[df.state == 'Maine']\n",
    "df_maine.head()"
   ]
  },
  {
   "cell_type": "code",
   "execution_count": 12,
   "metadata": {},
   "outputs": [
    {
     "data": {
      "text/plain": [
       "array(['Androscoggin', 'Cumberland', 'Lincoln', 'Unknown', 'Kennebec',\n",
       "       'Oxford', 'York', 'Penobscot', 'Sagadahoc', 'Knox', 'Waldo',\n",
       "       'Franklin', 'Somerset', 'Hancock'], dtype=object)"
      ]
     },
     "execution_count": 12,
     "metadata": {},
     "output_type": "execute_result"
    }
   ],
   "source": [
    "df_maine.county.unique()"
   ]
  },
  {
   "cell_type": "code",
   "execution_count": 13,
   "metadata": {},
   "outputs": [],
   "source": [
    "df_state_tot = df_maine.groupby('date').sum()"
   ]
  },
  {
   "cell_type": "code",
   "execution_count": 14,
   "metadata": {},
   "outputs": [
    {
     "data": {
      "text/html": [
       "<div>\n",
       "<style scoped>\n",
       "    .dataframe tbody tr th:only-of-type {\n",
       "        vertical-align: middle;\n",
       "    }\n",
       "\n",
       "    .dataframe tbody tr th {\n",
       "        vertical-align: top;\n",
       "    }\n",
       "\n",
       "    .dataframe thead th {\n",
       "        text-align: right;\n",
       "    }\n",
       "</style>\n",
       "<table border=\"1\" class=\"dataframe\">\n",
       "  <thead>\n",
       "    <tr style=\"text-align: right;\">\n",
       "      <th></th>\n",
       "      <th>fips</th>\n",
       "      <th>cases</th>\n",
       "      <th>deaths</th>\n",
       "    </tr>\n",
       "    <tr>\n",
       "      <th>date</th>\n",
       "      <th></th>\n",
       "      <th></th>\n",
       "      <th></th>\n",
       "    </tr>\n",
       "  </thead>\n",
       "  <tbody>\n",
       "    <tr>\n",
       "      <th>2020-03-12</th>\n",
       "      <td>23001.0</td>\n",
       "      <td>1</td>\n",
       "      <td>0</td>\n",
       "    </tr>\n",
       "    <tr>\n",
       "      <th>2020-03-13</th>\n",
       "      <td>46006.0</td>\n",
       "      <td>2</td>\n",
       "      <td>0</td>\n",
       "    </tr>\n",
       "    <tr>\n",
       "      <th>2020-03-14</th>\n",
       "      <td>46006.0</td>\n",
       "      <td>3</td>\n",
       "      <td>0</td>\n",
       "    </tr>\n",
       "    <tr>\n",
       "      <th>2020-03-15</th>\n",
       "      <td>69021.0</td>\n",
       "      <td>12</td>\n",
       "      <td>0</td>\n",
       "    </tr>\n",
       "    <tr>\n",
       "      <th>2020-03-16</th>\n",
       "      <td>69021.0</td>\n",
       "      <td>17</td>\n",
       "      <td>0</td>\n",
       "    </tr>\n",
       "  </tbody>\n",
       "</table>\n",
       "</div>"
      ],
      "text/plain": [
       "               fips  cases  deaths\n",
       "date                              \n",
       "2020-03-12  23001.0      1       0\n",
       "2020-03-13  46006.0      2       0\n",
       "2020-03-14  46006.0      3       0\n",
       "2020-03-15  69021.0     12       0\n",
       "2020-03-16  69021.0     17       0"
      ]
     },
     "execution_count": 14,
     "metadata": {},
     "output_type": "execute_result"
    }
   ],
   "source": [
    "df_state_tot.head()"
   ]
  },
  {
   "cell_type": "markdown",
   "metadata": {},
   "source": [
    "df_state_tot = df_state_tot.head().reset_index()"
   ]
  },
  {
   "cell_type": "code",
   "execution_count": 15,
   "metadata": {},
   "outputs": [],
   "source": [
    "dates = df_state_tot.index.values.tolist()\n",
    "cases = df_state_tot.cases.values.tolist()\n",
    "deaths = df_state_tot.deaths.values.tolist()"
   ]
  },
  {
   "cell_type": "code",
   "execution_count": 16,
   "metadata": {},
   "outputs": [],
   "source": [
    "dates_major = dates[0::3]"
   ]
  },
  {
   "cell_type": "markdown",
   "metadata": {},
   "source": [
    "## Plot Total Cases and Deaths"
   ]
  },
  {
   "cell_type": "code",
   "execution_count": 23,
   "metadata": {
    "scrolled": false
   },
   "outputs": [
    {
     "data": {
      "text/plain": [
       "<Response 23685 bytes [200 OK]>"
      ]
     },
     "execution_count": 23,
     "metadata": {},
     "output_type": "execute_result"
    }
   ],
   "source": [
    "bar_chart = pygal.Bar(x_label_rotation=20, show_minor_x_labels=False, show_legend=False, y_title = 'Number of Cases')\n",
    "bar_chart.title = 'Total COVID-19 Cases in Maine'\n",
    "bar_chart.x_labels = dates\n",
    "bar_chart.x_labels_major = dates_major\n",
    "bar_chart.add('Number of Cases', cases)\n",
    "\n",
    "bar_chart.render_to_file('plots/total_cases_maine.svg')                          # Save the svg to a file\n",
    "# bar_chart.render_response()"
   ]
  },
  {
   "cell_type": "code",
   "execution_count": 19,
   "metadata": {},
   "outputs": [
    {
     "name": "stdout",
     "output_type": "stream",
     "text": [
      "Help on method render_response in module pygal.graph.public:\n",
      "\n",
      "render_response(**kwargs) method of pygal.graph.bar.Bar instance\n",
      "    Render the graph, and return a Flask response\n",
      "\n"
     ]
    }
   ],
   "source": [
    "help(bar_chart.render_response)"
   ]
  },
  {
   "cell_type": "code",
   "execution_count": 13,
   "metadata": {},
   "outputs": [],
   "source": [
    "bar_chart = pygal.Bar(x_label_rotation=20, show_minor_x_labels=False, show_legend=False, y_title='Number of Deaths')\n",
    "bar_chart.title = 'Total COVID-19 Deaths in Maine'\n",
    "bar_chart.x_labels = dates\n",
    "bar_chart.x_labels_major = dates_major\n",
    "\n",
    "bar_chart.add('Deaths', deaths)\n",
    "\n",
    "bar_chart.render_to_file('plots/total_deaths_maine.svg')                          # Save the svg to a file"
   ]
  },
  {
   "cell_type": "markdown",
   "metadata": {},
   "source": [
    "## Plot New Daily Cases"
   ]
  },
  {
   "cell_type": "code",
   "execution_count": 14,
   "metadata": {},
   "outputs": [
    {
     "name": "stderr",
     "output_type": "stream",
     "text": [
      "/Library/Frameworks/Python.framework/Versions/3.7/lib/python3.7/site-packages/ipykernel_launcher.py:2: SettingWithCopyWarning: \n",
      "A value is trying to be set on a copy of a slice from a DataFrame\n",
      "\n",
      "See the caveats in the documentation: http://pandas.pydata.org/pandas-docs/stable/user_guide/indexing.html#returning-a-view-versus-a-copy\n",
      "  \n"
     ]
    }
   ],
   "source": [
    "df_state_tot['new_cases'] = df_state_tot.cases.diff()\n",
    "df_state_tot['new_cases'][0] = 1"
   ]
  },
  {
   "cell_type": "code",
   "execution_count": 15,
   "metadata": {},
   "outputs": [
    {
     "data": {
      "text/html": [
       "<div>\n",
       "<style scoped>\n",
       "    .dataframe tbody tr th:only-of-type {\n",
       "        vertical-align: middle;\n",
       "    }\n",
       "\n",
       "    .dataframe tbody tr th {\n",
       "        vertical-align: top;\n",
       "    }\n",
       "\n",
       "    .dataframe thead th {\n",
       "        text-align: right;\n",
       "    }\n",
       "</style>\n",
       "<table border=\"1\" class=\"dataframe\">\n",
       "  <thead>\n",
       "    <tr style=\"text-align: right;\">\n",
       "      <th></th>\n",
       "      <th>fips</th>\n",
       "      <th>cases</th>\n",
       "      <th>deaths</th>\n",
       "      <th>new_cases</th>\n",
       "    </tr>\n",
       "    <tr>\n",
       "      <th>date</th>\n",
       "      <th></th>\n",
       "      <th></th>\n",
       "      <th></th>\n",
       "      <th></th>\n",
       "    </tr>\n",
       "  </thead>\n",
       "  <tbody>\n",
       "    <tr>\n",
       "      <th>2020-03-12</th>\n",
       "      <td>23001.0</td>\n",
       "      <td>1</td>\n",
       "      <td>0</td>\n",
       "      <td>1.0</td>\n",
       "    </tr>\n",
       "    <tr>\n",
       "      <th>2020-03-13</th>\n",
       "      <td>46006.0</td>\n",
       "      <td>2</td>\n",
       "      <td>0</td>\n",
       "      <td>1.0</td>\n",
       "    </tr>\n",
       "    <tr>\n",
       "      <th>2020-03-14</th>\n",
       "      <td>46006.0</td>\n",
       "      <td>3</td>\n",
       "      <td>0</td>\n",
       "      <td>1.0</td>\n",
       "    </tr>\n",
       "    <tr>\n",
       "      <th>2020-03-15</th>\n",
       "      <td>69021.0</td>\n",
       "      <td>12</td>\n",
       "      <td>0</td>\n",
       "      <td>9.0</td>\n",
       "    </tr>\n",
       "    <tr>\n",
       "      <th>2020-03-16</th>\n",
       "      <td>69021.0</td>\n",
       "      <td>17</td>\n",
       "      <td>0</td>\n",
       "      <td>5.0</td>\n",
       "    </tr>\n",
       "  </tbody>\n",
       "</table>\n",
       "</div>"
      ],
      "text/plain": [
       "               fips  cases  deaths  new_cases\n",
       "date                                         \n",
       "2020-03-12  23001.0      1       0        1.0\n",
       "2020-03-13  46006.0      2       0        1.0\n",
       "2020-03-14  46006.0      3       0        1.0\n",
       "2020-03-15  69021.0     12       0        9.0\n",
       "2020-03-16  69021.0     17       0        5.0"
      ]
     },
     "execution_count": 15,
     "metadata": {},
     "output_type": "execute_result"
    }
   ],
   "source": [
    "df_state_tot.head()"
   ]
  },
  {
   "cell_type": "code",
   "execution_count": 16,
   "metadata": {
    "scrolled": true
   },
   "outputs": [],
   "source": [
    "bar_chart = pygal.Bar(x_label_rotation=20, \n",
    "                      show_minor_x_labels=False,\n",
    "                      show_legend=False,\n",
    "                      y_title = 'Number of New Cases',\n",
    "                      x_title = 'Day')\n",
    "bar_chart.title = 'Daily New COVID-19 Cases in Maine'\n",
    "bar_chart.x_labels = dates\n",
    "bar_chart.x_labels_major = dates_major\n",
    "bar_chart.add('Number of New Cases', df_state_tot.new_cases.to_list())\n",
    "\n",
    "bar_chart.render_to_file('plots/new_cases_maine.svg')                          # Save the svg to a file"
   ]
  },
  {
   "cell_type": "markdown",
   "metadata": {},
   "source": [
    "## Plot Daily Deaths"
   ]
  },
  {
   "cell_type": "code",
   "execution_count": 17,
   "metadata": {},
   "outputs": [
    {
     "name": "stderr",
     "output_type": "stream",
     "text": [
      "/Library/Frameworks/Python.framework/Versions/3.7/lib/python3.7/site-packages/ipykernel_launcher.py:2: SettingWithCopyWarning: \n",
      "A value is trying to be set on a copy of a slice from a DataFrame\n",
      "\n",
      "See the caveats in the documentation: http://pandas.pydata.org/pandas-docs/stable/user_guide/indexing.html#returning-a-view-versus-a-copy\n",
      "  \n"
     ]
    }
   ],
   "source": [
    "df_state_tot['new_deaths'] = df_state_tot.deaths.diff()\n",
    "df_state_tot['new_deaths'][0] = 0"
   ]
  },
  {
   "cell_type": "code",
   "execution_count": 18,
   "metadata": {},
   "outputs": [
    {
     "data": {
      "text/html": [
       "<div>\n",
       "<style scoped>\n",
       "    .dataframe tbody tr th:only-of-type {\n",
       "        vertical-align: middle;\n",
       "    }\n",
       "\n",
       "    .dataframe tbody tr th {\n",
       "        vertical-align: top;\n",
       "    }\n",
       "\n",
       "    .dataframe thead th {\n",
       "        text-align: right;\n",
       "    }\n",
       "</style>\n",
       "<table border=\"1\" class=\"dataframe\">\n",
       "  <thead>\n",
       "    <tr style=\"text-align: right;\">\n",
       "      <th></th>\n",
       "      <th>fips</th>\n",
       "      <th>cases</th>\n",
       "      <th>deaths</th>\n",
       "      <th>new_cases</th>\n",
       "      <th>new_deaths</th>\n",
       "    </tr>\n",
       "    <tr>\n",
       "      <th>date</th>\n",
       "      <th></th>\n",
       "      <th></th>\n",
       "      <th></th>\n",
       "      <th></th>\n",
       "      <th></th>\n",
       "    </tr>\n",
       "  </thead>\n",
       "  <tbody>\n",
       "    <tr>\n",
       "      <th>2020-03-28</th>\n",
       "      <td>253169.0</td>\n",
       "      <td>213</td>\n",
       "      <td>1</td>\n",
       "      <td>43.0</td>\n",
       "      <td>0.0</td>\n",
       "    </tr>\n",
       "    <tr>\n",
       "      <th>2020-03-29</th>\n",
       "      <td>276194.0</td>\n",
       "      <td>253</td>\n",
       "      <td>3</td>\n",
       "      <td>40.0</td>\n",
       "      <td>2.0</td>\n",
       "    </tr>\n",
       "    <tr>\n",
       "      <th>2020-03-30</th>\n",
       "      <td>276194.0</td>\n",
       "      <td>275</td>\n",
       "      <td>4</td>\n",
       "      <td>22.0</td>\n",
       "      <td>1.0</td>\n",
       "    </tr>\n",
       "    <tr>\n",
       "      <th>2020-03-31</th>\n",
       "      <td>276194.0</td>\n",
       "      <td>303</td>\n",
       "      <td>5</td>\n",
       "      <td>28.0</td>\n",
       "      <td>1.0</td>\n",
       "    </tr>\n",
       "    <tr>\n",
       "      <th>2020-04-01</th>\n",
       "      <td>299203.0</td>\n",
       "      <td>344</td>\n",
       "      <td>7</td>\n",
       "      <td>41.0</td>\n",
       "      <td>2.0</td>\n",
       "    </tr>\n",
       "  </tbody>\n",
       "</table>\n",
       "</div>"
      ],
      "text/plain": [
       "                fips  cases  deaths  new_cases  new_deaths\n",
       "date                                                      \n",
       "2020-03-28  253169.0    213       1       43.0         0.0\n",
       "2020-03-29  276194.0    253       3       40.0         2.0\n",
       "2020-03-30  276194.0    275       4       22.0         1.0\n",
       "2020-03-31  276194.0    303       5       28.0         1.0\n",
       "2020-04-01  299203.0    344       7       41.0         2.0"
      ]
     },
     "execution_count": 18,
     "metadata": {},
     "output_type": "execute_result"
    }
   ],
   "source": [
    "df_state_tot.tail()"
   ]
  },
  {
   "cell_type": "code",
   "execution_count": 19,
   "metadata": {},
   "outputs": [],
   "source": [
    "bar_chart = pygal.Bar(x_label_rotation=20, \n",
    "                      show_minor_x_labels=False,\n",
    "                      show_legend=False,\n",
    "                      y_title = 'Number of Deaths',\n",
    "                      x_title = 'Day')\n",
    "bar_chart.title = 'Daily COVID-19 Deaths in Maine'\n",
    "bar_chart.x_labels = dates\n",
    "bar_chart.x_labels_major = dates_major\n",
    "bar_chart.add('Number of New Deaths', df_state_tot.new_deaths.to_list())\n",
    "\n",
    "bar_chart.render_to_file('plots/new_deaths_maine.svg')                          # Save the svg to a file"
   ]
  },
  {
   "cell_type": "code",
   "execution_count": null,
   "metadata": {},
   "outputs": [],
   "source": []
  },
  {
   "cell_type": "code",
   "execution_count": null,
   "metadata": {},
   "outputs": [],
   "source": []
  },
  {
   "cell_type": "markdown",
   "metadata": {},
   "source": [
    "## Plot County-Level Data"
   ]
  },
  {
   "cell_type": "code",
   "execution_count": 20,
   "metadata": {},
   "outputs": [],
   "source": [
    "df_maine_today = df_maine[df_maine.date == df_maine.date.max()]"
   ]
  },
  {
   "cell_type": "code",
   "execution_count": 21,
   "metadata": {},
   "outputs": [
    {
     "data": {
      "text/html": [
       "<div>\n",
       "<style scoped>\n",
       "    .dataframe tbody tr th:only-of-type {\n",
       "        vertical-align: middle;\n",
       "    }\n",
       "\n",
       "    .dataframe tbody tr th {\n",
       "        vertical-align: top;\n",
       "    }\n",
       "\n",
       "    .dataframe thead th {\n",
       "        text-align: right;\n",
       "    }\n",
       "</style>\n",
       "<table border=\"1\" class=\"dataframe\">\n",
       "  <thead>\n",
       "    <tr style=\"text-align: right;\">\n",
       "      <th></th>\n",
       "      <th>date</th>\n",
       "      <th>county</th>\n",
       "      <th>state</th>\n",
       "      <th>fips</th>\n",
       "      <th>cases</th>\n",
       "      <th>deaths</th>\n",
       "    </tr>\n",
       "  </thead>\n",
       "  <tbody>\n",
       "    <tr>\n",
       "      <th>24835</th>\n",
       "      <td>2020-04-01</td>\n",
       "      <td>Androscoggin</td>\n",
       "      <td>Maine</td>\n",
       "      <td>23001.0</td>\n",
       "      <td>12</td>\n",
       "      <td>0</td>\n",
       "    </tr>\n",
       "    <tr>\n",
       "      <th>24836</th>\n",
       "      <td>2020-04-01</td>\n",
       "      <td>Cumberland</td>\n",
       "      <td>Maine</td>\n",
       "      <td>23005.0</td>\n",
       "      <td>192</td>\n",
       "      <td>5</td>\n",
       "    </tr>\n",
       "    <tr>\n",
       "      <th>24837</th>\n",
       "      <td>2020-04-01</td>\n",
       "      <td>Franklin</td>\n",
       "      <td>Maine</td>\n",
       "      <td>23007.0</td>\n",
       "      <td>2</td>\n",
       "      <td>0</td>\n",
       "    </tr>\n",
       "    <tr>\n",
       "      <th>24838</th>\n",
       "      <td>2020-04-01</td>\n",
       "      <td>Hancock</td>\n",
       "      <td>Maine</td>\n",
       "      <td>23009.0</td>\n",
       "      <td>1</td>\n",
       "      <td>0</td>\n",
       "    </tr>\n",
       "    <tr>\n",
       "      <th>24839</th>\n",
       "      <td>2020-04-01</td>\n",
       "      <td>Kennebec</td>\n",
       "      <td>Maine</td>\n",
       "      <td>23011.0</td>\n",
       "      <td>17</td>\n",
       "      <td>1</td>\n",
       "    </tr>\n",
       "    <tr>\n",
       "      <th>24840</th>\n",
       "      <td>2020-04-01</td>\n",
       "      <td>Knox</td>\n",
       "      <td>Maine</td>\n",
       "      <td>23013.0</td>\n",
       "      <td>5</td>\n",
       "      <td>0</td>\n",
       "    </tr>\n",
       "    <tr>\n",
       "      <th>24841</th>\n",
       "      <td>2020-04-01</td>\n",
       "      <td>Lincoln</td>\n",
       "      <td>Maine</td>\n",
       "      <td>23015.0</td>\n",
       "      <td>8</td>\n",
       "      <td>0</td>\n",
       "    </tr>\n",
       "    <tr>\n",
       "      <th>24842</th>\n",
       "      <td>2020-04-01</td>\n",
       "      <td>Oxford</td>\n",
       "      <td>Maine</td>\n",
       "      <td>23017.0</td>\n",
       "      <td>9</td>\n",
       "      <td>0</td>\n",
       "    </tr>\n",
       "    <tr>\n",
       "      <th>24843</th>\n",
       "      <td>2020-04-01</td>\n",
       "      <td>Penobscot</td>\n",
       "      <td>Maine</td>\n",
       "      <td>23019.0</td>\n",
       "      <td>13</td>\n",
       "      <td>0</td>\n",
       "    </tr>\n",
       "    <tr>\n",
       "      <th>24844</th>\n",
       "      <td>2020-04-01</td>\n",
       "      <td>Sagadahoc</td>\n",
       "      <td>Maine</td>\n",
       "      <td>23023.0</td>\n",
       "      <td>10</td>\n",
       "      <td>0</td>\n",
       "    </tr>\n",
       "    <tr>\n",
       "      <th>24845</th>\n",
       "      <td>2020-04-01</td>\n",
       "      <td>Somerset</td>\n",
       "      <td>Maine</td>\n",
       "      <td>23025.0</td>\n",
       "      <td>1</td>\n",
       "      <td>0</td>\n",
       "    </tr>\n",
       "    <tr>\n",
       "      <th>24846</th>\n",
       "      <td>2020-04-01</td>\n",
       "      <td>Unknown</td>\n",
       "      <td>Maine</td>\n",
       "      <td>NaN</td>\n",
       "      <td>7</td>\n",
       "      <td>0</td>\n",
       "    </tr>\n",
       "    <tr>\n",
       "      <th>24847</th>\n",
       "      <td>2020-04-01</td>\n",
       "      <td>Waldo</td>\n",
       "      <td>Maine</td>\n",
       "      <td>23027.0</td>\n",
       "      <td>2</td>\n",
       "      <td>0</td>\n",
       "    </tr>\n",
       "    <tr>\n",
       "      <th>24848</th>\n",
       "      <td>2020-04-01</td>\n",
       "      <td>York</td>\n",
       "      <td>Maine</td>\n",
       "      <td>23031.0</td>\n",
       "      <td>65</td>\n",
       "      <td>1</td>\n",
       "    </tr>\n",
       "  </tbody>\n",
       "</table>\n",
       "</div>"
      ],
      "text/plain": [
       "             date        county  state     fips  cases  deaths\n",
       "24835  2020-04-01  Androscoggin  Maine  23001.0     12       0\n",
       "24836  2020-04-01    Cumberland  Maine  23005.0    192       5\n",
       "24837  2020-04-01      Franklin  Maine  23007.0      2       0\n",
       "24838  2020-04-01       Hancock  Maine  23009.0      1       0\n",
       "24839  2020-04-01      Kennebec  Maine  23011.0     17       1\n",
       "24840  2020-04-01          Knox  Maine  23013.0      5       0\n",
       "24841  2020-04-01       Lincoln  Maine  23015.0      8       0\n",
       "24842  2020-04-01        Oxford  Maine  23017.0      9       0\n",
       "24843  2020-04-01     Penobscot  Maine  23019.0     13       0\n",
       "24844  2020-04-01     Sagadahoc  Maine  23023.0     10       0\n",
       "24845  2020-04-01      Somerset  Maine  23025.0      1       0\n",
       "24846  2020-04-01       Unknown  Maine      NaN      7       0\n",
       "24847  2020-04-01         Waldo  Maine  23027.0      2       0\n",
       "24848  2020-04-01          York  Maine  23031.0     65       1"
      ]
     },
     "execution_count": 21,
     "metadata": {},
     "output_type": "execute_result"
    }
   ],
   "source": [
    "df_maine_today"
   ]
  },
  {
   "cell_type": "code",
   "execution_count": 22,
   "metadata": {},
   "outputs": [
    {
     "name": "stderr",
     "output_type": "stream",
     "text": [
      "/Library/Frameworks/Python.framework/Versions/3.7/lib/python3.7/site-packages/ipykernel_launcher.py:1: SettingWithCopyWarning: \n",
      "A value is trying to be set on a copy of a slice from a DataFrame\n",
      "\n",
      "See the caveats in the documentation: http://pandas.pydata.org/pandas-docs/stable/user_guide/indexing.html#returning-a-view-versus-a-copy\n",
      "  \"\"\"Entry point for launching an IPython kernel.\n"
     ]
    }
   ],
   "source": [
    "df_maine_today.sort_values(by=['cases'], ascending=False, inplace=True)"
   ]
  },
  {
   "cell_type": "code",
   "execution_count": 23,
   "metadata": {},
   "outputs": [],
   "source": [
    "bar_chart = pygal.Bar(x_label_rotation=20, show_legend=False, y_title='Number of Cases', x_title='County')\n",
    "bar_chart.title = 'COVID-19 Cases by County (March 31, 2020)'\n",
    "bar_chart.x_labels = df_maine_today.county.to_list()\n",
    "bar_chart.add('Cases', df_maine_today.cases.to_list())\n",
    "\n",
    "bar_chart.render_to_file('plots/current_cases_by_county.svg')                          # Save the svg to a file"
   ]
  },
  {
   "cell_type": "markdown",
   "metadata": {},
   "source": [
    "##  County Case Growth"
   ]
  },
  {
   "cell_type": "markdown",
   "metadata": {},
   "source": [
    "#### Cumberland"
   ]
  },
  {
   "cell_type": "code",
   "execution_count": 24,
   "metadata": {},
   "outputs": [],
   "source": [
    "bar_chart = pygal.Bar(x_label_rotation=20, show_legend=False, y_title='Number of Cases', show_minor_x_labels=False)\n",
    "bar_chart.title = 'COVID-19 Cases in Cumberland County'\n",
    "bar_chart.x_labels = df_maine[df_maine.county=='Cumberland'].date.to_list()\n",
    "bar_chart.x_labels_major = df_maine[df_maine.county=='Cumberland'].date.to_list()[0::3]\n",
    "bar_chart.add('Cases', df_maine[df_maine.county=='Cumberland'].cases.to_list())\n",
    "\n",
    "bar_chart.render_to_file('plots/cumberland_cases.svg')                          # Save the svg to a file"
   ]
  },
  {
   "cell_type": "markdown",
   "metadata": {},
   "source": [
    "#### York"
   ]
  },
  {
   "cell_type": "code",
   "execution_count": 25,
   "metadata": {},
   "outputs": [],
   "source": [
    "bar_chart = pygal.Bar(x_label_rotation=20, show_legend=False, y_title='Number of Cases', show_minor_x_labels=False)\n",
    "bar_chart.title = 'COVID-19 Cases in York County'\n",
    "bar_chart.x_labels = df_maine[df_maine.county=='York'].date.to_list()\n",
    "bar_chart.x_labels_major = df_maine[df_maine.county=='York'].date.to_list()[0::3]\n",
    "bar_chart.add('Cases', df_maine[df_maine.county=='York'].cases.to_list())\n",
    "\n",
    "bar_chart.render_to_file('plots/york_cases.svg')                          # Save the svg to a file"
   ]
  },
  {
   "cell_type": "markdown",
   "metadata": {},
   "source": [
    "#### Kennebec"
   ]
  },
  {
   "cell_type": "code",
   "execution_count": 26,
   "metadata": {},
   "outputs": [],
   "source": [
    "bar_chart = pygal.Bar(x_label_rotation=20, show_legend=False, y_title='Number of Cases', show_minor_x_labels=False)\n",
    "bar_chart.title = 'COVID-19 Cases in Kennebec County'\n",
    "bar_chart.x_labels = df_maine[df_maine.county=='Kennebec'].date.to_list()\n",
    "bar_chart.x_labels_major = df_maine[df_maine.county=='Kennebec'].date.to_list()[0::3]\n",
    "bar_chart.add('Cases', df_maine[df_maine.county=='Kennebec'].cases.to_list())\n",
    "\n",
    "bar_chart.render_to_file('plots/kennebec_cases.svg')                          # Save the svg to a file"
   ]
  },
  {
   "cell_type": "markdown",
   "metadata": {},
   "source": [
    "## Cases Per Capita"
   ]
  },
  {
   "cell_type": "markdown",
   "metadata": {},
   "source": [
    "#### County Population"
   ]
  },
  {
   "cell_type": "markdown",
   "metadata": {},
   "source": [
    "https://data.census.gov/cedsci/profile?g=0500000US23005&q=Cumberland\n",
    "https://data.census.gov/cedsci/profile?g=0500000US23031&q=York\n",
    "https://data.census.gov/cedsci/profile?g=0500000US23017&q=Oxford\n",
    "https://data.census.gov/cedsci/profile?g=0500000US23023&q=Sagadahoc\n",
    "https://data.census.gov/cedsci/profile?g=0500000US23001&q=Androscoggin\n",
    "    https://data.census.gov/cedsci/profile?g=0500000US23015&q=Lincoln\n",
    "        https://data.census.gov/cedsci/profile?g=0500000US23011&q=Kennebec\n",
    "https://data.census.gov/cedsci/profile?g=0500000US23007&q=Franklin\n",
    "    https://data.census.gov/cedsci/profile?g=0500000US23027&q=Waldo\n",
    "        https://data.census.gov/cedsci/profile?g=0500000US23025&q=Somerset\n",
    "            https://data.census.gov/cedsci/profile?g=0500000US23009&q=Hancock\n",
    "https://data.census.gov/cedsci/profile?g=0500000US23029&q=Washington\n",
    "https://data.census.gov/cedsci/profile?g=0500000US23021&q=Piscataquis\n",
    "    https://data.census.gov/cedsci/profile?g=0500000US23019&q=Penobscot\n",
    "        https://data.census.gov/cedsci/profile?g=0500000US23003&q=Aroostook"
   ]
  },
  {
   "cell_type": "code",
   "execution_count": 27,
   "metadata": {},
   "outputs": [],
   "source": [
    "population_data = {'Cumberland': 290944,\n",
    "                   'York':203102,\n",
    "                   'Oxford':57325,\n",
    "                   'Sagadahoc':35277,\n",
    "                   'Androscoggin':107444,\n",
    "                   'Lincoln':34067,\n",
    "                   'Kennebec':121545,\n",
    "                   'Franklin':30019,\n",
    "                   'Knox':39823,\n",
    "                   'Waldo':39418,\n",
    "                   'Somerset':50710,\n",
    "                   'Hancock':54541,\n",
    "                   'Washington':31694,\n",
    "                   'Piscataquis':16877,\n",
    "                   'Penobscot':151748,\n",
    "                   'Aroostook': 68269,\n",
    "                   'Unknown':np.nan}"
   ]
  },
  {
   "cell_type": "code",
   "execution_count": 28,
   "metadata": {},
   "outputs": [],
   "source": [
    "df_population = pd.DataFrame.from_dict(population_data, orient='index',columns=['population'])"
   ]
  },
  {
   "cell_type": "code",
   "execution_count": 29,
   "metadata": {},
   "outputs": [],
   "source": [
    "df_maine_today = df_maine_today.merge(df_population, left_on='county', right_index=True)"
   ]
  },
  {
   "cell_type": "code",
   "execution_count": 30,
   "metadata": {},
   "outputs": [],
   "source": [
    "df_maine_today['cases_per_hundred_thousand'] = df_maine_today.cases/(df_maine_today.population/100000)"
   ]
  },
  {
   "cell_type": "code",
   "execution_count": 31,
   "metadata": {},
   "outputs": [
    {
     "data": {
      "text/html": [
       "<div>\n",
       "<style scoped>\n",
       "    .dataframe tbody tr th:only-of-type {\n",
       "        vertical-align: middle;\n",
       "    }\n",
       "\n",
       "    .dataframe tbody tr th {\n",
       "        vertical-align: top;\n",
       "    }\n",
       "\n",
       "    .dataframe thead th {\n",
       "        text-align: right;\n",
       "    }\n",
       "</style>\n",
       "<table border=\"1\" class=\"dataframe\">\n",
       "  <thead>\n",
       "    <tr style=\"text-align: right;\">\n",
       "      <th></th>\n",
       "      <th>date</th>\n",
       "      <th>county</th>\n",
       "      <th>state</th>\n",
       "      <th>fips</th>\n",
       "      <th>cases</th>\n",
       "      <th>deaths</th>\n",
       "      <th>population</th>\n",
       "      <th>cases_per_hundred_thousand</th>\n",
       "    </tr>\n",
       "  </thead>\n",
       "  <tbody>\n",
       "    <tr>\n",
       "      <th>24836</th>\n",
       "      <td>2020-04-01</td>\n",
       "      <td>Cumberland</td>\n",
       "      <td>Maine</td>\n",
       "      <td>23005.0</td>\n",
       "      <td>192</td>\n",
       "      <td>5</td>\n",
       "      <td>290944.0</td>\n",
       "      <td>65.992081</td>\n",
       "    </tr>\n",
       "    <tr>\n",
       "      <th>24848</th>\n",
       "      <td>2020-04-01</td>\n",
       "      <td>York</td>\n",
       "      <td>Maine</td>\n",
       "      <td>23031.0</td>\n",
       "      <td>65</td>\n",
       "      <td>1</td>\n",
       "      <td>203102.0</td>\n",
       "      <td>32.003624</td>\n",
       "    </tr>\n",
       "    <tr>\n",
       "      <th>24839</th>\n",
       "      <td>2020-04-01</td>\n",
       "      <td>Kennebec</td>\n",
       "      <td>Maine</td>\n",
       "      <td>23011.0</td>\n",
       "      <td>17</td>\n",
       "      <td>1</td>\n",
       "      <td>121545.0</td>\n",
       "      <td>13.986589</td>\n",
       "    </tr>\n",
       "    <tr>\n",
       "      <th>24843</th>\n",
       "      <td>2020-04-01</td>\n",
       "      <td>Penobscot</td>\n",
       "      <td>Maine</td>\n",
       "      <td>23019.0</td>\n",
       "      <td>13</td>\n",
       "      <td>0</td>\n",
       "      <td>151748.0</td>\n",
       "      <td>8.566834</td>\n",
       "    </tr>\n",
       "    <tr>\n",
       "      <th>24835</th>\n",
       "      <td>2020-04-01</td>\n",
       "      <td>Androscoggin</td>\n",
       "      <td>Maine</td>\n",
       "      <td>23001.0</td>\n",
       "      <td>12</td>\n",
       "      <td>0</td>\n",
       "      <td>107444.0</td>\n",
       "      <td>11.168609</td>\n",
       "    </tr>\n",
       "  </tbody>\n",
       "</table>\n",
       "</div>"
      ],
      "text/plain": [
       "             date        county  state     fips  cases  deaths  population  \\\n",
       "24836  2020-04-01    Cumberland  Maine  23005.0    192       5    290944.0   \n",
       "24848  2020-04-01          York  Maine  23031.0     65       1    203102.0   \n",
       "24839  2020-04-01      Kennebec  Maine  23011.0     17       1    121545.0   \n",
       "24843  2020-04-01     Penobscot  Maine  23019.0     13       0    151748.0   \n",
       "24835  2020-04-01  Androscoggin  Maine  23001.0     12       0    107444.0   \n",
       "\n",
       "       cases_per_hundred_thousand  \n",
       "24836                   65.992081  \n",
       "24848                   32.003624  \n",
       "24839                   13.986589  \n",
       "24843                    8.566834  \n",
       "24835                   11.168609  "
      ]
     },
     "execution_count": 31,
     "metadata": {},
     "output_type": "execute_result"
    }
   ],
   "source": [
    "df_maine_today.head()"
   ]
  },
  {
   "cell_type": "code",
   "execution_count": 32,
   "metadata": {},
   "outputs": [],
   "source": [
    "df_maine_today = df_maine_today.round({'cases_per_hundred_thousand':0})"
   ]
  },
  {
   "cell_type": "code",
   "execution_count": 33,
   "metadata": {},
   "outputs": [],
   "source": [
    "bar_chart = pygal.Bar(x_label_rotation=20,\n",
    "                      show_legend=False,\n",
    "                      y_title='Cases per 100,000 Residents',\n",
    "                      x_title='County')\n",
    "bar_chart.title = 'COVID-19 Cases per 100,000 Residents (March 31, 2020)'\n",
    "bar_chart.x_labels = df_maine_today.county.to_list()\n",
    "bar_chart.add('Cases', df_maine_today.cases_per_hundred_thousand.to_list())\n",
    "\n",
    "bar_chart.render_to_file('plots/current_cases_per_hundred_thous.svg')                          # Save the svg to a file"
   ]
  },
  {
   "cell_type": "markdown",
   "metadata": {},
   "source": [
    "## Make a df with Press Herald Data (https://www.pressherald.com/2020/03/17/track-maines-coronavirus-cases-by-county/)\n"
   ]
  },
  {
   "cell_type": "markdown",
   "metadata": {},
   "source": [
    "*press herald data used for recovered counts for March 26-31"
   ]
  },
  {
   "cell_type": "code",
   "execution_count": 39,
   "metadata": {},
   "outputs": [],
   "source": [
    "df_state_tot['recovered']=[0,0,0,0,0,0,0,0,0,0,0,0,0,0,16,24,36,41,41,68,80]"
   ]
  },
  {
   "cell_type": "code",
   "execution_count": 40,
   "metadata": {
    "scrolled": true
   },
   "outputs": [
    {
     "data": {
      "text/html": [
       "<div>\n",
       "<style scoped>\n",
       "    .dataframe tbody tr th:only-of-type {\n",
       "        vertical-align: middle;\n",
       "    }\n",
       "\n",
       "    .dataframe tbody tr th {\n",
       "        vertical-align: top;\n",
       "    }\n",
       "\n",
       "    .dataframe thead th {\n",
       "        text-align: right;\n",
       "    }\n",
       "</style>\n",
       "<table border=\"1\" class=\"dataframe\">\n",
       "  <thead>\n",
       "    <tr style=\"text-align: right;\">\n",
       "      <th></th>\n",
       "      <th>fips</th>\n",
       "      <th>cases</th>\n",
       "      <th>deaths</th>\n",
       "      <th>new_cases</th>\n",
       "      <th>new_deaths</th>\n",
       "      <th>recovered</th>\n",
       "      <th>active_cases</th>\n",
       "    </tr>\n",
       "    <tr>\n",
       "      <th>date</th>\n",
       "      <th></th>\n",
       "      <th></th>\n",
       "      <th></th>\n",
       "      <th></th>\n",
       "      <th></th>\n",
       "      <th></th>\n",
       "      <th></th>\n",
       "    </tr>\n",
       "  </thead>\n",
       "  <tbody>\n",
       "    <tr>\n",
       "      <th>2020-03-28</th>\n",
       "      <td>253169.0</td>\n",
       "      <td>213</td>\n",
       "      <td>1</td>\n",
       "      <td>43.0</td>\n",
       "      <td>0.0</td>\n",
       "      <td>36</td>\n",
       "      <td>176</td>\n",
       "    </tr>\n",
       "    <tr>\n",
       "      <th>2020-03-29</th>\n",
       "      <td>276194.0</td>\n",
       "      <td>253</td>\n",
       "      <td>3</td>\n",
       "      <td>40.0</td>\n",
       "      <td>2.0</td>\n",
       "      <td>41</td>\n",
       "      <td>209</td>\n",
       "    </tr>\n",
       "    <tr>\n",
       "      <th>2020-03-30</th>\n",
       "      <td>276194.0</td>\n",
       "      <td>275</td>\n",
       "      <td>4</td>\n",
       "      <td>22.0</td>\n",
       "      <td>1.0</td>\n",
       "      <td>41</td>\n",
       "      <td>230</td>\n",
       "    </tr>\n",
       "    <tr>\n",
       "      <th>2020-03-31</th>\n",
       "      <td>276194.0</td>\n",
       "      <td>303</td>\n",
       "      <td>5</td>\n",
       "      <td>28.0</td>\n",
       "      <td>1.0</td>\n",
       "      <td>68</td>\n",
       "      <td>230</td>\n",
       "    </tr>\n",
       "    <tr>\n",
       "      <th>2020-04-01</th>\n",
       "      <td>299203.0</td>\n",
       "      <td>344</td>\n",
       "      <td>7</td>\n",
       "      <td>41.0</td>\n",
       "      <td>2.0</td>\n",
       "      <td>80</td>\n",
       "      <td>257</td>\n",
       "    </tr>\n",
       "  </tbody>\n",
       "</table>\n",
       "</div>"
      ],
      "text/plain": [
       "                fips  cases  deaths  new_cases  new_deaths  recovered  \\\n",
       "date                                                                    \n",
       "2020-03-28  253169.0    213       1       43.0         0.0         36   \n",
       "2020-03-29  276194.0    253       3       40.0         2.0         41   \n",
       "2020-03-30  276194.0    275       4       22.0         1.0         41   \n",
       "2020-03-31  276194.0    303       5       28.0         1.0         68   \n",
       "2020-04-01  299203.0    344       7       41.0         2.0         80   \n",
       "\n",
       "            active_cases  \n",
       "date                      \n",
       "2020-03-28           176  \n",
       "2020-03-29           209  \n",
       "2020-03-30           230  \n",
       "2020-03-31           230  \n",
       "2020-04-01           257  "
      ]
     },
     "execution_count": 40,
     "metadata": {},
     "output_type": "execute_result"
    }
   ],
   "source": [
    "df_state_tot.tail()"
   ]
  },
  {
   "cell_type": "code",
   "execution_count": 41,
   "metadata": {},
   "outputs": [],
   "source": [
    "df_state_tot['active_cases'] = df_state_tot.cases - df_state_tot.deaths - df_state_tot.recovered"
   ]
  },
  {
   "cell_type": "code",
   "execution_count": 42,
   "metadata": {},
   "outputs": [],
   "source": [
    "bar_chart = pygal.StackedBar(x_label_rotation=20, show_minor_x_labels=False)\n",
    "bar_chart.title = 'Maine COVID-19 Cases by Status'\n",
    "bar_chart.x_labels = df_state_tot.index.values.tolist()\n",
    "bar_chart.x_labels_major = df_state_tot.index.values.tolist()[0::3]\n",
    "\n",
    "bar_chart.add('Active Cases', df_state_tot.active_cases.values.tolist())\n",
    "bar_chart.add('Deaths', df_state_tot.deaths.values.tolist())\n",
    "bar_chart.add('Recovered Cases', df_state_tot.recovered.values.tolist())\n",
    "\n",
    "\n",
    "bar_chart.render_to_file('plots/case_status.svg')                          # Save the svg to a file"
   ]
  },
  {
   "cell_type": "markdown",
   "metadata": {},
   "source": [
    "## Hospitalized Patients "
   ]
  },
  {
   "cell_type": "code",
   "execution_count": 43,
   "metadata": {},
   "outputs": [],
   "source": [
    "df_state_tot['hospitalized']=[0,0,0,0,0,0,0,0,0,0,0,0,0,0,0,0,0,0,49,57,63]"
   ]
  },
  {
   "cell_type": "code",
   "execution_count": 44,
   "metadata": {},
   "outputs": [
    {
     "data": {
      "text/html": [
       "<div>\n",
       "<style scoped>\n",
       "    .dataframe tbody tr th:only-of-type {\n",
       "        vertical-align: middle;\n",
       "    }\n",
       "\n",
       "    .dataframe tbody tr th {\n",
       "        vertical-align: top;\n",
       "    }\n",
       "\n",
       "    .dataframe thead th {\n",
       "        text-align: right;\n",
       "    }\n",
       "</style>\n",
       "<table border=\"1\" class=\"dataframe\">\n",
       "  <thead>\n",
       "    <tr style=\"text-align: right;\">\n",
       "      <th></th>\n",
       "      <th>fips</th>\n",
       "      <th>cases</th>\n",
       "      <th>deaths</th>\n",
       "      <th>new_cases</th>\n",
       "      <th>new_deaths</th>\n",
       "      <th>recovered</th>\n",
       "      <th>active_cases</th>\n",
       "      <th>hospitalized</th>\n",
       "    </tr>\n",
       "    <tr>\n",
       "      <th>date</th>\n",
       "      <th></th>\n",
       "      <th></th>\n",
       "      <th></th>\n",
       "      <th></th>\n",
       "      <th></th>\n",
       "      <th></th>\n",
       "      <th></th>\n",
       "      <th></th>\n",
       "    </tr>\n",
       "  </thead>\n",
       "  <tbody>\n",
       "    <tr>\n",
       "      <th>2020-03-12</th>\n",
       "      <td>23001.0</td>\n",
       "      <td>1</td>\n",
       "      <td>0</td>\n",
       "      <td>1.0</td>\n",
       "      <td>0.0</td>\n",
       "      <td>0</td>\n",
       "      <td>1</td>\n",
       "      <td>0</td>\n",
       "    </tr>\n",
       "    <tr>\n",
       "      <th>2020-03-13</th>\n",
       "      <td>46006.0</td>\n",
       "      <td>2</td>\n",
       "      <td>0</td>\n",
       "      <td>1.0</td>\n",
       "      <td>0.0</td>\n",
       "      <td>0</td>\n",
       "      <td>2</td>\n",
       "      <td>0</td>\n",
       "    </tr>\n",
       "    <tr>\n",
       "      <th>2020-03-14</th>\n",
       "      <td>46006.0</td>\n",
       "      <td>3</td>\n",
       "      <td>0</td>\n",
       "      <td>1.0</td>\n",
       "      <td>0.0</td>\n",
       "      <td>0</td>\n",
       "      <td>3</td>\n",
       "      <td>0</td>\n",
       "    </tr>\n",
       "    <tr>\n",
       "      <th>2020-03-15</th>\n",
       "      <td>69021.0</td>\n",
       "      <td>12</td>\n",
       "      <td>0</td>\n",
       "      <td>9.0</td>\n",
       "      <td>0.0</td>\n",
       "      <td>0</td>\n",
       "      <td>12</td>\n",
       "      <td>0</td>\n",
       "    </tr>\n",
       "    <tr>\n",
       "      <th>2020-03-16</th>\n",
       "      <td>69021.0</td>\n",
       "      <td>17</td>\n",
       "      <td>0</td>\n",
       "      <td>5.0</td>\n",
       "      <td>0.0</td>\n",
       "      <td>0</td>\n",
       "      <td>17</td>\n",
       "      <td>0</td>\n",
       "    </tr>\n",
       "  </tbody>\n",
       "</table>\n",
       "</div>"
      ],
      "text/plain": [
       "               fips  cases  deaths  new_cases  new_deaths  recovered  \\\n",
       "date                                                                   \n",
       "2020-03-12  23001.0      1       0        1.0         0.0          0   \n",
       "2020-03-13  46006.0      2       0        1.0         0.0          0   \n",
       "2020-03-14  46006.0      3       0        1.0         0.0          0   \n",
       "2020-03-15  69021.0     12       0        9.0         0.0          0   \n",
       "2020-03-16  69021.0     17       0        5.0         0.0          0   \n",
       "\n",
       "            active_cases  hospitalized  \n",
       "date                                    \n",
       "2020-03-12             1             0  \n",
       "2020-03-13             2             0  \n",
       "2020-03-14             3             0  \n",
       "2020-03-15            12             0  \n",
       "2020-03-16            17             0  "
      ]
     },
     "execution_count": 44,
     "metadata": {},
     "output_type": "execute_result"
    }
   ],
   "source": [
    "df_state_tot.head()"
   ]
  },
  {
   "cell_type": "code",
   "execution_count": 45,
   "metadata": {},
   "outputs": [
    {
     "data": {
      "text/html": [
       "<div>\n",
       "<style scoped>\n",
       "    .dataframe tbody tr th:only-of-type {\n",
       "        vertical-align: middle;\n",
       "    }\n",
       "\n",
       "    .dataframe tbody tr th {\n",
       "        vertical-align: top;\n",
       "    }\n",
       "\n",
       "    .dataframe thead th {\n",
       "        text-align: right;\n",
       "    }\n",
       "</style>\n",
       "<table border=\"1\" class=\"dataframe\">\n",
       "  <thead>\n",
       "    <tr style=\"text-align: right;\">\n",
       "      <th></th>\n",
       "      <th>fips</th>\n",
       "      <th>cases</th>\n",
       "      <th>deaths</th>\n",
       "      <th>new_cases</th>\n",
       "      <th>new_deaths</th>\n",
       "      <th>recovered</th>\n",
       "      <th>active_cases</th>\n",
       "      <th>hospitalized</th>\n",
       "    </tr>\n",
       "    <tr>\n",
       "      <th>date</th>\n",
       "      <th></th>\n",
       "      <th></th>\n",
       "      <th></th>\n",
       "      <th></th>\n",
       "      <th></th>\n",
       "      <th></th>\n",
       "      <th></th>\n",
       "      <th></th>\n",
       "    </tr>\n",
       "  </thead>\n",
       "  <tbody>\n",
       "    <tr>\n",
       "      <th>2020-03-30</th>\n",
       "      <td>276194.0</td>\n",
       "      <td>275</td>\n",
       "      <td>4</td>\n",
       "      <td>22.0</td>\n",
       "      <td>1.0</td>\n",
       "      <td>41</td>\n",
       "      <td>230</td>\n",
       "      <td>49</td>\n",
       "    </tr>\n",
       "    <tr>\n",
       "      <th>2020-03-31</th>\n",
       "      <td>276194.0</td>\n",
       "      <td>303</td>\n",
       "      <td>5</td>\n",
       "      <td>28.0</td>\n",
       "      <td>1.0</td>\n",
       "      <td>68</td>\n",
       "      <td>230</td>\n",
       "      <td>57</td>\n",
       "    </tr>\n",
       "    <tr>\n",
       "      <th>2020-04-01</th>\n",
       "      <td>299203.0</td>\n",
       "      <td>344</td>\n",
       "      <td>7</td>\n",
       "      <td>41.0</td>\n",
       "      <td>2.0</td>\n",
       "      <td>80</td>\n",
       "      <td>257</td>\n",
       "      <td>63</td>\n",
       "    </tr>\n",
       "  </tbody>\n",
       "</table>\n",
       "</div>"
      ],
      "text/plain": [
       "                fips  cases  deaths  new_cases  new_deaths  recovered  \\\n",
       "date                                                                    \n",
       "2020-03-30  276194.0    275       4       22.0         1.0         41   \n",
       "2020-03-31  276194.0    303       5       28.0         1.0         68   \n",
       "2020-04-01  299203.0    344       7       41.0         2.0         80   \n",
       "\n",
       "            active_cases  hospitalized  \n",
       "date                                    \n",
       "2020-03-30           230            49  \n",
       "2020-03-31           230            57  \n",
       "2020-04-01           257            63  "
      ]
     },
     "execution_count": 45,
     "metadata": {},
     "output_type": "execute_result"
    }
   ],
   "source": [
    "df_hosp = df_state_tot[df_state_tot.hospitalized > 0]\n",
    "df_hosp"
   ]
  },
  {
   "cell_type": "code",
   "execution_count": 50,
   "metadata": {},
   "outputs": [],
   "source": [
    "bar_chart = pygal.Bar(x_label_rotation=20,\n",
    "                      show_minor_x_labels=False,\n",
    "                      show_legend=False,\n",
    "                      y_title = 'Number of Hospitalized Patients')\n",
    "bar_chart.title = 'Number of Patients Hospitalized for COVID-19 in Maine'\n",
    "bar_chart.x_labels = df_hosp.index.values.tolist()\n",
    "bar_chart.add('Count Hospitalized', df_hosp.hospitalized.values.tolist())\n",
    "\n",
    "bar_chart.render_to_file('plots/hospitalized.svg')                          # Save the svg to a file"
   ]
  },
  {
   "cell_type": "markdown",
   "metadata": {},
   "source": [
    "## Patient Age"
   ]
  },
  {
   "cell_type": "code",
   "execution_count": 149,
   "metadata": {},
   "outputs": [
    {
     "data": {
      "text/html": [
       "<div>\n",
       "<style scoped>\n",
       "    .dataframe tbody tr th:only-of-type {\n",
       "        vertical-align: middle;\n",
       "    }\n",
       "\n",
       "    .dataframe tbody tr th {\n",
       "        vertical-align: top;\n",
       "    }\n",
       "\n",
       "    .dataframe thead th {\n",
       "        text-align: right;\n",
       "    }\n",
       "</style>\n",
       "<table border=\"1\" class=\"dataframe\">\n",
       "  <thead>\n",
       "    <tr style=\"text-align: right;\">\n",
       "      <th></th>\n",
       "      <th>age_range</th>\n",
       "      <th>cases</th>\n",
       "    </tr>\n",
       "  </thead>\n",
       "  <tbody>\n",
       "    <tr>\n",
       "      <th>0</th>\n",
       "      <td>&lt; 20</td>\n",
       "      <td>6</td>\n",
       "    </tr>\n",
       "    <tr>\n",
       "      <th>1</th>\n",
       "      <td>20s</td>\n",
       "      <td>35</td>\n",
       "    </tr>\n",
       "    <tr>\n",
       "      <th>2</th>\n",
       "      <td>30s</td>\n",
       "      <td>28</td>\n",
       "    </tr>\n",
       "    <tr>\n",
       "      <th>3</th>\n",
       "      <td>40s</td>\n",
       "      <td>54</td>\n",
       "    </tr>\n",
       "    <tr>\n",
       "      <th>4</th>\n",
       "      <td>50s</td>\n",
       "      <td>69</td>\n",
       "    </tr>\n",
       "  </tbody>\n",
       "</table>\n",
       "</div>"
      ],
      "text/plain": [
       "  age_range  cases\n",
       "0      < 20      6\n",
       "1       20s     35\n",
       "2       30s     28\n",
       "3       40s     54\n",
       "4       50s     69"
      ]
     },
     "execution_count": 149,
     "metadata": {},
     "output_type": "execute_result"
    }
   ],
   "source": [
    "df_age = pd.DataFrame.from_dict({'age_range':['< 20','20s', '30s', '40s', '50s', '60s', '70s','80+'], \n",
    "                                 'cases': [6,35,28,54,69,77,46,29]})\n",
    "df_age.head()"
   ]
  },
  {
   "cell_type": "code",
   "execution_count": 150,
   "metadata": {},
   "outputs": [
    {
     "data": {
      "text/html": [
       "<div>\n",
       "<style scoped>\n",
       "    .dataframe tbody tr th:only-of-type {\n",
       "        vertical-align: middle;\n",
       "    }\n",
       "\n",
       "    .dataframe tbody tr th {\n",
       "        vertical-align: top;\n",
       "    }\n",
       "\n",
       "    .dataframe thead th {\n",
       "        text-align: right;\n",
       "    }\n",
       "</style>\n",
       "<table border=\"1\" class=\"dataframe\">\n",
       "  <thead>\n",
       "    <tr style=\"text-align: right;\">\n",
       "      <th></th>\n",
       "      <th>age_range</th>\n",
       "      <th>cases</th>\n",
       "      <th>percent_of_tot</th>\n",
       "    </tr>\n",
       "  </thead>\n",
       "  <tbody>\n",
       "    <tr>\n",
       "      <th>0</th>\n",
       "      <td>&lt; 20</td>\n",
       "      <td>6</td>\n",
       "      <td>1.7</td>\n",
       "    </tr>\n",
       "    <tr>\n",
       "      <th>1</th>\n",
       "      <td>20s</td>\n",
       "      <td>35</td>\n",
       "      <td>10.2</td>\n",
       "    </tr>\n",
       "    <tr>\n",
       "      <th>2</th>\n",
       "      <td>30s</td>\n",
       "      <td>28</td>\n",
       "      <td>8.1</td>\n",
       "    </tr>\n",
       "    <tr>\n",
       "      <th>3</th>\n",
       "      <td>40s</td>\n",
       "      <td>54</td>\n",
       "      <td>15.7</td>\n",
       "    </tr>\n",
       "    <tr>\n",
       "      <th>4</th>\n",
       "      <td>50s</td>\n",
       "      <td>69</td>\n",
       "      <td>20.1</td>\n",
       "    </tr>\n",
       "  </tbody>\n",
       "</table>\n",
       "</div>"
      ],
      "text/plain": [
       "  age_range  cases  percent_of_tot\n",
       "0      < 20      6             1.7\n",
       "1       20s     35            10.2\n",
       "2       30s     28             8.1\n",
       "3       40s     54            15.7\n",
       "4       50s     69            20.1"
      ]
     },
     "execution_count": 150,
     "metadata": {},
     "output_type": "execute_result"
    }
   ],
   "source": [
    "total_count = df_age.cases.sum()\n",
    "df_age['percent_of_tot'] = df_age.cases/total_count*100\n",
    "df_age = df_age.round({'percent_of_tot':1})\n",
    "df_age.head()"
   ]
  },
  {
   "cell_type": "code",
   "execution_count": 154,
   "metadata": {},
   "outputs": [
    {
     "data": {
      "image/png": "[encoded data removed]",
      "text/plain": [
       "<Waffle size 720x576 with 1 Axes>"
      ]
     },
     "metadata": {
      "needs_background": "light"
     },
     "output_type": "display_data"
    }
   ],
   "source": [
    "fig = plt.figure(\n",
    "    FigureClass=Waffle, \n",
    "    rows=4,\n",
    "    values=df_age.percent_of_tot,\n",
    "    labels=list(df_age.age_range),\n",
    "    legend={'loc': 'lower left',\n",
    "            'bbox_to_anchor': (-.01, -0.5),\n",
    "            'ncol': len(df_age.percent_of_tot),\n",
    "            'fontsize': 12,\n",
    "            'title':'Age of Patient'\n",
    "           },\n",
    "    title={'label': 'Case Distribution by Patient Age',\n",
    "           'loc': 'left',\n",
    "           'pad':10,\n",
    "           'fontdict': {'fontsize': 20}},\n",
    "    figsize=(10, 8)  # figsize is a parameter of plt.figure\n",
    "\n",
    ")"
   ]
  },
  {
   "cell_type": "code",
   "execution_count": 153,
   "metadata": {},
   "outputs": [],
   "source": [
    "bar_chart = pygal.Bar(x_label_rotation=20,\n",
    "                      show_legend=False,\n",
    "                      y_title='Percent of Cases (%)',\n",
    "                      x_title='Age Group')\n",
    "bar_chart.title = 'Case Distribution by Patient Age'\n",
    "bar_chart.x_labels = df_age.age_range\n",
    "bar_chart.add('% of Cases', df_age.percent_of_tot.to_list())\n",
    "\n",
    "bar_chart.render_to_file('plots/age_range.svg')                          # Save the svg to a file"
   ]
  },
  {
   "cell_type": "code",
   "execution_count": null,
   "metadata": {},
   "outputs": [],
   "source": []
  },
  {
   "cell_type": "code",
   "execution_count": null,
   "metadata": {},
   "outputs": [],
   "source": []
  }
 ],
 "metadata": {
  "kernelspec": {
   "display_name": "Python 3",
   "language": "python",
   "name": "python3"
  },
  "language_info": {
   "codemirror_mode": {
    "name": "ipython",
    "version": 3
   },
   "file_extension": ".py",
   "mimetype": "text/x-python",
   "name": "python",
   "nbconvert_exporter": "python",
   "pygments_lexer": "ipython3",
   "version": "3.7.4"
  }
 },
 "nbformat": 4,
 "nbformat_minor": 2
}
